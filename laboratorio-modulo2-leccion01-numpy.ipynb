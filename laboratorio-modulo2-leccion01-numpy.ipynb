{
 "cells": [
  {
   "cell_type": "markdown",
   "id": "6db588db",
   "metadata": {},
   "source": [
    "<div style=\"text-align: center;\">\n",
    "  <img src=\"https://github.com/Hack-io-Data/Imagenes/blob/main/01-LogosHackio/logo_naranja@4x.png?raw=true\" alt=\"esquema\" />\n",
    "</div>"
   ]
  },
  {
   "cell_type": "markdown",
   "id": "11308d6c",
   "metadata": {},
   "source": [
    "\n",
    "# Laboratorio de NumPy"
   ]
  },
  {
   "cell_type": "code",
   "execution_count": 2,
   "id": "7573b37a",
   "metadata": {},
   "outputs": [],
   "source": [
    "import numpy as np"
   ]
  },
  {
   "cell_type": "markdown",
   "id": "a19d4596",
   "metadata": {},
   "source": [
    "#### Ejercicio 1 - Crea un array de 1D con los números del 0 al 9."
   ]
  },
  {
   "cell_type": "code",
   "execution_count": 3,
   "id": "9d4e1d42",
   "metadata": {},
   "outputs": [
    {
     "data": {
      "text/plain": [
       "array([9, 4, 7, 8, 4, 0, 4, 4, 4, 0], dtype=int32)"
      ]
     },
     "execution_count": 3,
     "metadata": {},
     "output_type": "execute_result"
    }
   ],
   "source": [
    "array_1d = np.random.randint(0,10,10)\n",
    "array_1d"
   ]
  },
  {
   "cell_type": "markdown",
   "id": "f4a41f16",
   "metadata": {},
   "source": [
    "#### Ejercicio 2 - Convierte un array 1D en un array 2D con 2 filas y 5 columnas."
   ]
  },
  {
   "cell_type": "code",
   "execution_count": 4,
   "id": "3d7cef3c",
   "metadata": {},
   "outputs": [
    {
     "name": "stdout",
     "output_type": "stream",
     "text": [
      "[[9 4 7 8 4]\n",
      " [0 4 4 4 0]]\n"
     ]
    }
   ],
   "source": [
    "array_2d = np.reshape(array_1d, (2, 5))\n",
    "print(array_2d)"
   ]
  },
  {
   "cell_type": "markdown",
   "id": "86bb8999",
   "metadata": {},
   "source": [
    "#### Ejercicio 3 - Encuentra los índices de los elementos con valor distinto de 0 en el siguiente array: [0, 2, 0, 3, 0, 4, 0]."
   ]
  },
  {
   "cell_type": "code",
   "execution_count": 5,
   "id": "d1fcfca4",
   "metadata": {},
   "outputs": [
    {
     "data": {
      "text/plain": [
       "array([2, 3, 4])"
      ]
     },
     "execution_count": 5,
     "metadata": {},
     "output_type": "execute_result"
    }
   ],
   "source": [
    "array_init = [0, 2, 0, 3, 0, 4, 0]\n",
    "array_ejer_3 = np.array(array_init)\n",
    "result = array_ejer_3[array_ejer_3 !=  0]\n",
    "result\n"
   ]
  },
  {
   "cell_type": "markdown",
   "id": "1c548419",
   "metadata": {},
   "source": [
    "#### Ejercicio 4 - Crea un array 3x3 con valores aleatorios entre 0 y 1."
   ]
  },
  {
   "cell_type": "code",
   "execution_count": 6,
   "id": "e1d4f19f",
   "metadata": {},
   "outputs": [
    {
     "data": {
      "text/plain": [
       "array([[0, 0, 0],\n",
       "       [0, 0, 1],\n",
       "       [0, 1, 0]], dtype=int32)"
      ]
     },
     "execution_count": 6,
     "metadata": {},
     "output_type": "execute_result"
    }
   ],
   "source": [
    "array_tres_x_tres = np.random.randint(0,2,(3,3))\n",
    "array_tres_x_tres"
   ]
  },
  {
   "cell_type": "markdown",
   "id": "aee82811",
   "metadata": {},
   "source": [
    "#### Ejercicio 5 - Crea un array de 10 números aleatorios y encuentra el valor máximo y mínimo."
   ]
  },
  {
   "cell_type": "code",
   "execution_count": 7,
   "id": "81fea76e",
   "metadata": {},
   "outputs": [
    {
     "name": "stdout",
     "output_type": "stream",
     "text": [
      "[8 5 8 0 1 1 9 1 7 4]\n",
      "0\n",
      "9\n"
     ]
    }
   ],
   "source": [
    "array_10_numeros = np.random.randint(0,10,10)\n",
    "print(array_10_numeros)\n",
    "minimo = np.min(array_10_numeros)\n",
    "print(minimo)\n",
    "maximo = np.max(array_10_numeros)\n",
    "print(maximo)"
   ]
  },
  {
   "cell_type": "markdown",
   "id": "6559375b",
   "metadata": {},
   "source": [
    "#### Ejercicio 6 - Crea un array de una dimensión e inviértelo. "
   ]
  },
  {
   "cell_type": "code",
   "execution_count": 8,
   "id": "31385db0",
   "metadata": {},
   "outputs": [
    {
     "name": "stdout",
     "output_type": "stream",
     "text": [
      "[2 4 9 6 3 0 1 2 9 8]\n",
      "[8 9 2 1 0 3 6 9 4 2]\n"
     ]
    }
   ],
   "source": [
    "una_dimension = np.random.randint(0,10,10)\n",
    "print(una_dimension)\n",
    "una_dimension_inver = una_dimension[::-1]\n",
    "print(una_dimension_inver)"
   ]
  },
  {
   "cell_type": "markdown",
   "id": "4457f046",
   "metadata": {},
   "source": [
    "\n",
    "#### Ejercicio 6 - Genera un array tridimensional de dimensiones (2, 3, 4) con valores enteros del 1 al 24.\n",
    "\n",
    "- Selecciona el primer `15` del array.\n",
    "\n",
    "- Selecciona todos los elementos del primer array. \n",
    "\n",
    "- Selecciona la última fila del último array\n"
   ]
  },
  {
   "cell_type": "code",
   "execution_count": 9,
   "id": "3cab04c9",
   "metadata": {},
   "outputs": [
    {
     "name": "stdout",
     "output_type": "stream",
     "text": [
      "Todos: \n",
      "[[[10  1 16 20]\n",
      "  [ 1  8 12 11]\n",
      "  [ 7  5 14  5]]\n",
      "\n",
      " [[14  7 10 22]\n",
      "  [13 21  1 15]\n",
      "  [ 7 15 10  7]]]\n",
      "15\n",
      "Primer Array: \n",
      "[[10  1 16 20]\n",
      " [ 1  8 12 11]\n",
      " [ 7  5 14  5]]\n",
      "Ultima FIla Array: \n",
      "[ 7 15 10  7]\n"
     ]
    }
   ],
   "source": [
    "array_tridimensional = np.random.randint(1,25,(2,3,4))\n",
    "print(\"Todos: \")\n",
    "print(array_tridimensional)\n",
    "\n",
    "valor_buscar = 15\n",
    "result_buscar = array_tridimensional[array_tridimensional ==  valor_buscar]\n",
    "\n",
    "if len(result_buscar) > 0:\n",
    "    print(result_buscar[0])\n",
    "else:\n",
    "    print(f\"No hay valor buscado: {valor_buscar}\")\n",
    "\n",
    "print(\"Primer Array: \")\n",
    "print(array_tridimensional[0, :, :])\n",
    "\n",
    "print(\"Ultima FIla Array: \")\n",
    "print(array_tridimensional[1, 2, :])\n"
   ]
  },
  {
   "cell_type": "markdown",
   "id": "681b7e4e",
   "metadata": {},
   "source": [
    "\n",
    "#### Ejercicio 7 - Genera un array tridimensional de dimensiones (3, 2, 5) con valores enteros del 1 al 30.\n",
    "\n",
    "- Selecciona el subarray que contiene los dos primeros elementos de cada fila del primer array.\n",
    "\n",
    "- Selecciona el subarray que contiene todas las filas de los dos últimos arrays.\n"
   ]
  },
  {
   "cell_type": "code",
   "execution_count": 10,
   "id": "b008a9aa",
   "metadata": {},
   "outputs": [
    {
     "name": "stdout",
     "output_type": "stream",
     "text": [
      "Todos: \n",
      "[[[29  1 16 16  7]\n",
      "  [13 17 25  1 28]]\n",
      "\n",
      " [[ 4 18  1  4 13]\n",
      "  [21 11 23 12 10]]\n",
      "\n",
      " [[22  2  3 12 20]\n",
      "  [25  6 14 26 14]]]\n",
      "Primer subarray: \n",
      "[[29 13]\n",
      " [ 1 17]]\n",
      "Segundo subarray: \n",
      "[[[ 4 18  1  4 13]\n",
      "  [21 11 23 12 10]]\n",
      "\n",
      " [[22  2  3 12 20]\n",
      "  [25  6 14 26 14]]]\n"
     ]
    }
   ],
   "source": [
    "array_tridimensional_7 = np.random.randint(1,31,(3,2,5))\n",
    "print(\"Todos: \")\n",
    "print(array_tridimensional_7)\n",
    "\n",
    "print(\"Primer subarray: \")\n",
    "print(array_tridimensional_7[0, :, (0,1)])\n",
    "\n",
    "print(\"Segundo subarray: \")\n",
    "print(array_tridimensional_7[(1,2), :, :])"
   ]
  },
  {
   "cell_type": "markdown",
   "id": "4fabd9d0",
   "metadata": {},
   "source": [
    "#### Ejercicio 8 - Genera un array tridimensional de dimensiones (4, 3, 2) con valores enteros del 1 al 24.\n",
    "\n",
    "- Cambia todos los elementos de la segunda fila del segundo array por `0`.\n",
    "\n",
    "- Cambia todos los valores del último array a `-1`.\n"
   ]
  },
  {
   "cell_type": "code",
   "execution_count": 11,
   "id": "0ef45b69",
   "metadata": {},
   "outputs": [
    {
     "name": "stdout",
     "output_type": "stream",
     "text": [
      "Todos: \n",
      "[[[17 27]\n",
      "  [25 26]\n",
      "  [28 16]]\n",
      "\n",
      " [[15 27]\n",
      "  [30 17]\n",
      "  [29  7]]\n",
      "\n",
      " [[18 29]\n",
      "  [20 29]\n",
      "  [ 9 30]]\n",
      "\n",
      " [[28  2]\n",
      "  [30 26]\n",
      "  [24 12]]]\n",
      "Cambiado: \n",
      "[[[17 27]\n",
      "  [25 26]\n",
      "  [28 16]]\n",
      "\n",
      " [[15 27]\n",
      "  [ 0  0]\n",
      "  [29  7]]\n",
      "\n",
      " [[18 29]\n",
      "  [20 29]\n",
      "  [ 9 30]]\n",
      "\n",
      " [[28  2]\n",
      "  [30 26]\n",
      "  [24 12]]]\n"
     ]
    }
   ],
   "source": [
    "array_tridimensional_8 = np.random.randint(1,31,(4,3,2))\n",
    "print(\"Todos: \")\n",
    "print(array_tridimensional_8)\n",
    "\n",
    "array_tridimensional_8[1, 1, :] = 0\n",
    "print(\"Cambiado: \")\n",
    "print(array_tridimensional_8)\n"
   ]
  },
  {
   "cell_type": "markdown",
   "id": "c60bc3bb",
   "metadata": {},
   "source": [
    "\n",
    "#### Ejercicio 9 - Genera un array tridimensional de dimensiones (2, 4, 3) con valores enteros del -10 al 13.\n",
    "\n",
    "- Selecciona todos los elementos mayores a `5`.\n",
    "\n",
    "- Reemplaza todos los elementos negativos por `0`.\n"
   ]
  },
  {
   "cell_type": "code",
   "execution_count": 12,
   "id": "28bf9232",
   "metadata": {},
   "outputs": [
    {
     "name": "stdout",
     "output_type": "stream",
     "text": [
      "Todos: \n",
      "[[[  1   3  12]\n",
      "  [  3   3  -1]\n",
      "  [ -9   8   6]\n",
      "  [ -4  12  -4]]\n",
      "\n",
      " [[ -9  11   1]\n",
      "  [ -3   7  -7]\n",
      "  [ 12 -10   8]\n",
      "  [  6  -9  -6]]]\n",
      "Resultado: \n",
      "[12 12 11 12]\n",
      "[[[ 1  3 12]\n",
      "  [ 3  3  0]\n",
      "  [ 0  8  6]\n",
      "  [ 0 12  0]]\n",
      "\n",
      " [[ 0 11  1]\n",
      "  [ 0  7  0]\n",
      "  [12  0  8]\n",
      "  [ 6  0  0]]]\n"
     ]
    }
   ],
   "source": [
    "array_tridimensional_9 = np.random.randint(-10,14,(2,4,3))\n",
    "print(\"Todos: \")\n",
    "print(array_tridimensional_9)\n",
    "resultado_9 = array_tridimensional_9[array_tridimensional_9 > 9]\n",
    "print(\"Resultado: \")\n",
    "print(resultado_9)\n",
    "array_tridimensional_9[array_tridimensional_9 <  0 ] = 0\n",
    "print(array_tridimensional_9)\n"
   ]
  },
  {
   "cell_type": "markdown",
   "id": "ab38a3be",
   "metadata": {},
   "source": [
    "#### Ejercicio 10 - Genera un array tridimensional de dimensiones (3, 3, 3) con valores enteros del 1 al 27.\n",
    "\n",
    "- Selecciona el subarray del segundo array que contenga solo las dos primeras columnas.\n",
    "\n",
    "- Selecciona todos los elementos del tercer array que sean mayores que `20`.\n"
   ]
  },
  {
   "cell_type": "code",
   "execution_count": 13,
   "id": "78c979cf",
   "metadata": {},
   "outputs": [
    {
     "name": "stdout",
     "output_type": "stream",
     "text": [
      "Todos: \n",
      "[[[19 14  3]\n",
      "  [16 14  3]\n",
      "  [18  1  6]]\n",
      "\n",
      " [[22 15 11]\n",
      "  [16 15 22]\n",
      "  [ 2  8 13]]\n",
      "\n",
      " [[ 5 25  8]\n",
      "  [24 18 22]\n",
      "  [14 13  2]]]\n",
      "segundo array\n",
      "[[22 16  2]\n",
      " [15 15  8]]\n",
      "todos los del tercer array\n",
      "[[ 5 25  8]\n",
      " [24 18 22]\n",
      " [14 13  2]]\n"
     ]
    },
    {
     "data": {
      "text/plain": [
       "array([25, 24, 22], dtype=int32)"
      ]
     },
     "execution_count": 13,
     "metadata": {},
     "output_type": "execute_result"
    }
   ],
   "source": [
    "array_tridimensional_10 = np.random.randint(1,28,(3,3,3))\n",
    "print(\"Todos: \")\n",
    "print(array_tridimensional_10)\n",
    "\n",
    "print(\"segundo array\")\n",
    "print(array_tridimensional_10[1, :, (0,1)])\n",
    "\n",
    "array_tridimensional_10_tercer_array = array_tridimensional_10[2, :, :]\n",
    "print(\"todos los del tercer array\")\n",
    "print(array_tridimensional_10_tercer_array)\n",
    "\n",
    "array_tridimensional_10_tercer_array[array_tridimensional_10_tercer_array > 20]\n"
   ]
  },
  {
   "cell_type": "markdown",
   "id": "f1a00156",
   "metadata": {},
   "source": [
    "#### Ejercicio 11 - Crea un array de 10 números aleatorios y reemplaza los valores máximos y mínimos por 0."
   ]
  },
  {
   "cell_type": "code",
   "execution_count": 14,
   "id": "990fa526",
   "metadata": {},
   "outputs": [
    {
     "name": "stdout",
     "output_type": "stream",
     "text": [
      "[ 6  7 16 12 29 18 27 25 19 26]\n",
      "29\n",
      "6\n",
      "[ 0  7 16 12  0 18 27 25 19 26]\n"
     ]
    }
   ],
   "source": [
    "array_tridimensional_11 = np.random.randint(1,30,10)\n",
    "print(array_tridimensional_11)\n",
    "maximo = np.max(array_tridimensional_11)\n",
    "minimo = np.min(array_tridimensional_11)\n",
    "print(maximo)\n",
    "print(minimo)\n",
    "\n",
    "array_tridimensional_11[array_tridimensional_11 == maximo] = 0\n",
    "array_tridimensional_11[array_tridimensional_11 == minimo] = 0\n",
    "print(array_tridimensional_11)\n",
    "\n"
   ]
  },
  {
   "cell_type": "markdown",
   "id": "781fafd0",
   "metadata": {},
   "source": [
    "#### Ejercicio 12 - Genera un array de 15 números aleatorios enteros entre 1 y 100 y reordénalo en orden ascendente."
   ]
  },
  {
   "cell_type": "code",
   "execution_count": 15,
   "id": "caa4fd47",
   "metadata": {},
   "outputs": [
    {
     "name": "stdout",
     "output_type": "stream",
     "text": [
      "[ 16 100  76  66  75  74  32  22  67  32  74  29  45   6  90]\n",
      "[  6  16  22  29  32  32  45  66  67  74  74  75  76  90 100]\n"
     ]
    }
   ],
   "source": [
    "array_12 = np.random.randint(1,101,15)\n",
    "print(array_12)\n",
    "ordenado = np.sort(array_12)\n",
    "print(ordenado)"
   ]
  },
  {
   "cell_type": "markdown",
   "id": "45f10c3e",
   "metadata": {},
   "source": [
    "#### Ejercicio 11 - Calcula la suma de los elementos a lo largo de las filas y columnas en una matriz 4x4."
   ]
  },
  {
   "cell_type": "code",
   "execution_count": 16,
   "id": "90220788",
   "metadata": {},
   "outputs": [
    {
     "name": "stdout",
     "output_type": "stream",
     "text": [
      "[[ 5 18 27 12]\n",
      " [19  7 16 10]\n",
      " [26  8  8 19]\n",
      " [22 15 25  5]]\n",
      "242\n"
     ]
    }
   ],
   "source": [
    "array_11 = np.random.randint(1,28,(4,4))\n",
    "print(array_11)\n",
    "resulado_suma = np.sum(array_11)\n",
    "print(resulado_suma)"
   ]
  },
  {
   "cell_type": "markdown",
   "id": "69b9751a",
   "metadata": {},
   "source": [
    "#### Ejercicio 12 - Crea una matriz de 5x5 con valores en el borde igual a 1 y en el interior igual a 0."
   ]
  },
  {
   "cell_type": "code",
   "execution_count": 27,
   "id": "eca81323",
   "metadata": {},
   "outputs": [
    {
     "name": "stdout",
     "output_type": "stream",
     "text": [
      "[[ 5  2  7  7  6]\n",
      " [ 1  2  9  1  4]\n",
      " [ 2  7  4  9  6]\n",
      " [ 2  1  6 10  5]\n",
      " [10  8  5  1  7]]\n",
      "[[ 1  2  0  7  6]\n",
      " [ 1  2  0  1  4]\n",
      " [ 1  7  0  9  6]\n",
      " [ 1  1  0 10  5]\n",
      " [ 1  8  0  1  7]]\n"
     ]
    }
   ],
   "source": [
    "array_12_2 = np.random.randint(1,11,(5,5))\n",
    "print(array_12_2)\n",
    "\n",
    "array_12_2_borde = array_12_2[:, :]\n",
    "\n",
    "array_result = []\n",
    "\n",
    "for a in array_12_2:\n",
    "    a[0] = 1\n",
    "    a[2] = 0\n",
    "    array_result.append(a)\n",
    "\n",
    "print(np.array(array_result))\n"
   ]
  },
  {
   "cell_type": "markdown",
   "id": "1ea8068d",
   "metadata": {},
   "source": [
    "#### Ejercicio 13 - Calcula la media y la desviación estándar de un array de 10 números aleatorios."
   ]
  },
  {
   "cell_type": "code",
   "execution_count": null,
   "id": "05dd579d",
   "metadata": {},
   "outputs": [],
   "source": []
  },
  {
   "cell_type": "markdown",
   "id": "6add6669",
   "metadata": {},
   "source": [
    "#### Ejercicio 14 - Genera un array tridimensional de dimensiones (2, 3, 4) con valores enteros del 1 al 24.\n",
    "\n",
    "- Transpón el array para intercambiar los ejes de la forma (2, 3, 4) a (4, 3, 2).\n",
    "\n",
    "- Observa cómo cambian las posiciones de los elementos y sus índices después de la transposición. Explica en una celda de markdown que es lo que ha pasado. \n"
   ]
  },
  {
   "cell_type": "code",
   "execution_count": null,
   "id": "ae98aca5",
   "metadata": {},
   "outputs": [],
   "source": []
  },
  {
   "cell_type": "markdown",
   "id": "1e32b5e6",
   "metadata": {},
   "source": [
    "#### Ejercicio 15 - Genera un array tridimensional de dimensiones (3, 4, 2) con valores enteros del 1 al 24.\n",
    "\n",
    "- Transpón el array para intercambiar el primer y segundo eje, de manera que la nueva forma del array sea (4, 3, 2).\n"
   ]
  },
  {
   "cell_type": "code",
   "execution_count": null,
   "id": "0146fdd6",
   "metadata": {},
   "outputs": [],
   "source": []
  },
  {
   "cell_type": "markdown",
   "id": "fcf92586",
   "metadata": {},
   "source": [
    "#### Ejercicio 16 - Genera un array tridimensional de dimensiones (3, 2, 4) con valores enteros del 1 al 24.\n",
    "\n",
    "- Realiza una rotación completa de los ejes para convertir la forma original (3, 2, 4) en (4, 3, 2).\n"
   ]
  },
  {
   "cell_type": "code",
   "execution_count": null,
   "id": "dd2c7f27",
   "metadata": {},
   "outputs": [],
   "source": []
  },
  {
   "cell_type": "markdown",
   "id": "1795e11f",
   "metadata": {},
   "source": [
    "#### Ejercicio 17 - Manipulación de Arrays en 3D\n",
    "\n",
    "- Crea un array tridimensional con dimensiones (3, 4, 5) cuyos elementos sean números enteros aleatorios entre -10 y 10.\n",
    "\n",
    "- Crea un array vacío con la misma forma y dimensiones que el array creado anteriormente. Luego, reemplaza los valores de la matriz vacía basada en los valores del primer array bajo las siguientes condiciones:\n",
    "\n",
    "   - Si el valor es igual a la mediana, se reemplaza por `\"M\"`.\n",
    "\n",
    "   - Si el valor es mayor que la mediana, se reemplaza por `\"X\"`.\n",
    "\n",
    "   - Si el valor es menor que la mediana, se reemplaza por `\"Y\"`.\n",
    "\n",
    "   - Si el valor es igual al máximo, se reemplaza por `\"MAX\"`.\n",
    "\n",
    "   - Si el valor es igual al mínimo, se reemplaza por `\"MIN\"`.\n"
   ]
  },
  {
   "cell_type": "code",
   "execution_count": null,
   "id": "d309b397",
   "metadata": {},
   "outputs": [],
   "source": []
  },
  {
   "cell_type": "markdown",
   "id": "83794704",
   "metadata": {},
   "source": [
    "#### Ejercicio 18 - Verificación de Filas y Columnas Iguales\n",
    "\n",
    "Crea un array bidimensional de dimensiones 4x4, escribe un código para determinar si alguna fila es exactamente igual a alguna columna.\n",
    "\n",
    "**Reglas:**\n",
    "\n",
    "- No puedes usar funciones predefinidas de NumPy para comparar filas y columnas (`np.array_equal`, etc.).\n",
    "\n",
    "- Debes resolverlo con estructuras básicas de Python (bucles, condicionales, etc.).\n",
    "\n",
    "- Debes revisar si hay al menos una fila que coincida exactamente con alguna columna.\n",
    "\n",
    "**Pistas**:\n",
    "\n",
    "- Puedes recorrer cada fila y cada columna de la matriz usando bucles.\n",
    "\n",
    "- Para comparar una fila con una columna, puedes hacerlo elemento por elemento."
   ]
  },
  {
   "cell_type": "code",
   "execution_count": null,
   "id": "afd51c60",
   "metadata": {},
   "outputs": [],
   "source": []
  }
 ],
 "metadata": {
  "kernelspec": {
   "display_name": "Python 3",
   "language": "python",
   "name": "python3"
  },
  "language_info": {
   "codemirror_mode": {
    "name": "ipython",
    "version": 3
   },
   "file_extension": ".py",
   "mimetype": "text/x-python",
   "name": "python",
   "nbconvert_exporter": "python",
   "pygments_lexer": "ipython3",
   "version": "3.12.5"
  }
 },
 "nbformat": 4,
 "nbformat_minor": 5
}
